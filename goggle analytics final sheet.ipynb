{
 "cells": [
  {
   "cell_type": "code",
   "execution_count": 35,
   "id": "0bc49be2",
   "metadata": {},
   "outputs": [],
   "source": [
    "import pandas as pd\n",
    "import numpy as np"
   ]
  },
  {
   "cell_type": "code",
   "execution_count": 36,
   "id": "6aeb99e6",
   "metadata": {},
   "outputs": [
    {
     "data": {
      "text/html": [
       "<div>\n",
       "<style scoped>\n",
       "    .dataframe tbody tr th:only-of-type {\n",
       "        vertical-align: middle;\n",
       "    }\n",
       "\n",
       "    .dataframe tbody tr th {\n",
       "        vertical-align: top;\n",
       "    }\n",
       "\n",
       "    .dataframe thead th {\n",
       "        text-align: right;\n",
       "    }\n",
       "</style>\n",
       "<table border=\"1\" class=\"dataframe\">\n",
       "  <thead>\n",
       "    <tr style=\"text-align: right;\">\n",
       "      <th></th>\n",
       "      <th>Country</th>\n",
       "      <th>Impressions</th>\n",
       "      <th>Clicks</th>\n",
       "      <th>CTR</th>\n",
       "      <th>Average Position</th>\n",
       "      <th>Sessions</th>\n",
       "      <th>Bounce Rate</th>\n",
       "      <th>Pages / Session</th>\n",
       "      <th>Transactions</th>\n",
       "      <th>Revenue</th>\n",
       "    </tr>\n",
       "  </thead>\n",
       "  <tbody>\n",
       "    <tr>\n",
       "      <th>0</th>\n",
       "      <td>United Arab Emirates</td>\n",
       "      <td>0</td>\n",
       "      <td>0</td>\n",
       "      <td>0.0</td>\n",
       "      <td>1.0</td>\n",
       "      <td>1</td>\n",
       "      <td>0.0</td>\n",
       "      <td>2.0</td>\n",
       "      <td>0</td>\n",
       "      <td>0.0</td>\n",
       "    </tr>\n",
       "    <tr>\n",
       "      <th>1</th>\n",
       "      <td>United Arab Emirates</td>\n",
       "      <td>0</td>\n",
       "      <td>0</td>\n",
       "      <td>0.0</td>\n",
       "      <td>1.0</td>\n",
       "      <td>1</td>\n",
       "      <td>0.0</td>\n",
       "      <td>2.0</td>\n",
       "      <td>0</td>\n",
       "      <td>0.0</td>\n",
       "    </tr>\n",
       "    <tr>\n",
       "      <th>2</th>\n",
       "      <td>United Arab Emirates</td>\n",
       "      <td>0</td>\n",
       "      <td>0</td>\n",
       "      <td>0.0</td>\n",
       "      <td>1.0</td>\n",
       "      <td>1</td>\n",
       "      <td>0.0</td>\n",
       "      <td>2.0</td>\n",
       "      <td>0</td>\n",
       "      <td>0.0</td>\n",
       "    </tr>\n",
       "    <tr>\n",
       "      <th>3</th>\n",
       "      <td>United Arab Emirates</td>\n",
       "      <td>0</td>\n",
       "      <td>0</td>\n",
       "      <td>0.0</td>\n",
       "      <td>1.0</td>\n",
       "      <td>1</td>\n",
       "      <td>0.0</td>\n",
       "      <td>2.0</td>\n",
       "      <td>0</td>\n",
       "      <td>0.0</td>\n",
       "    </tr>\n",
       "    <tr>\n",
       "      <th>4</th>\n",
       "      <td>United Arab Emirates</td>\n",
       "      <td>0</td>\n",
       "      <td>0</td>\n",
       "      <td>0.0</td>\n",
       "      <td>1.0</td>\n",
       "      <td>1</td>\n",
       "      <td>0.0</td>\n",
       "      <td>2.0</td>\n",
       "      <td>0</td>\n",
       "      <td>0.0</td>\n",
       "    </tr>\n",
       "  </tbody>\n",
       "</table>\n",
       "</div>"
      ],
      "text/plain": [
       "                Country  Impressions  Clicks  CTR  Average Position  Sessions  \\\n",
       "0  United Arab Emirates            0       0  0.0               1.0         1   \n",
       "1  United Arab Emirates            0       0  0.0               1.0         1   \n",
       "2  United Arab Emirates            0       0  0.0               1.0         1   \n",
       "3  United Arab Emirates            0       0  0.0               1.0         1   \n",
       "4  United Arab Emirates            0       0  0.0               1.0         1   \n",
       "\n",
       "   Bounce Rate  Pages / Session  Transactions  Revenue  \n",
       "0          0.0              2.0             0      0.0  \n",
       "1          0.0              2.0             0      0.0  \n",
       "2          0.0              2.0             0      0.0  \n",
       "3          0.0              2.0             0      0.0  \n",
       "4          0.0              2.0             0      0.0  "
      ]
     },
     "execution_count": 36,
     "metadata": {},
     "output_type": "execute_result"
    }
   ],
   "source": [
    "ga = pd.read_excel('Google Analytics -  Dataset.xlsx',usecols=[0,2,3,4,5,6,7,8,9,10])\n",
    "ga.head(5)"
   ]
  },
  {
   "cell_type": "code",
   "execution_count": 37,
   "id": "3fb1d265",
   "metadata": {},
   "outputs": [
    {
     "name": "stdout",
     "output_type": "stream",
     "text": [
      "<class 'pandas.core.frame.DataFrame'>\n",
      "RangeIndex: 5000 entries, 0 to 4999\n",
      "Data columns (total 10 columns):\n",
      " #   Column            Non-Null Count  Dtype  \n",
      "---  ------            --------------  -----  \n",
      " 0   Country           5000 non-null   object \n",
      " 1   Impressions       5000 non-null   int64  \n",
      " 2   Clicks            5000 non-null   int64  \n",
      " 3   CTR               5000 non-null   float64\n",
      " 4   Average Position  5000 non-null   float64\n",
      " 5   Sessions          5000 non-null   int64  \n",
      " 6   Bounce Rate       5000 non-null   float64\n",
      " 7   Pages / Session   5000 non-null   float64\n",
      " 8   Transactions      5000 non-null   int64  \n",
      " 9   Revenue           5000 non-null   float64\n",
      "dtypes: float64(5), int64(4), object(1)\n",
      "memory usage: 390.8+ KB\n"
     ]
    }
   ],
   "source": [
    "ga.info()"
   ]
  },
  {
   "cell_type": "code",
   "execution_count": 38,
   "id": "7bf967c9",
   "metadata": {},
   "outputs": [
    {
     "data": {
      "text/plain": [
       "Country             0\n",
       "Impressions         0\n",
       "Clicks              0\n",
       "CTR                 0\n",
       "Average Position    0\n",
       "Sessions            0\n",
       "Bounce Rate         0\n",
       "Pages / Session     0\n",
       "Transactions        0\n",
       "Revenue             0\n",
       "dtype: int64"
      ]
     },
     "execution_count": 38,
     "metadata": {},
     "output_type": "execute_result"
    }
   ],
   "source": [
    "ga.isnull().sum()"
   ]
  },
  {
   "cell_type": "code",
   "execution_count": 39,
   "id": "10dca076",
   "metadata": {},
   "outputs": [
    {
     "data": {
      "text/html": [
       "<div>\n",
       "<style scoped>\n",
       "    .dataframe tbody tr th:only-of-type {\n",
       "        vertical-align: middle;\n",
       "    }\n",
       "\n",
       "    .dataframe tbody tr th {\n",
       "        vertical-align: top;\n",
       "    }\n",
       "\n",
       "    .dataframe thead th {\n",
       "        text-align: right;\n",
       "    }\n",
       "</style>\n",
       "<table border=\"1\" class=\"dataframe\">\n",
       "  <thead>\n",
       "    <tr style=\"text-align: right;\">\n",
       "      <th></th>\n",
       "      <th>Impressions</th>\n",
       "      <th>Clicks</th>\n",
       "      <th>CTR</th>\n",
       "      <th>Average Position</th>\n",
       "      <th>Sessions</th>\n",
       "      <th>Bounce Rate</th>\n",
       "      <th>Pages / Session</th>\n",
       "      <th>Transactions</th>\n",
       "      <th>Revenue</th>\n",
       "    </tr>\n",
       "  </thead>\n",
       "  <tbody>\n",
       "    <tr>\n",
       "      <th>count</th>\n",
       "      <td>5000.000000</td>\n",
       "      <td>5000.000000</td>\n",
       "      <td>5000.000000</td>\n",
       "      <td>5000.000000</td>\n",
       "      <td>5000.000000</td>\n",
       "      <td>5000.000000</td>\n",
       "      <td>5000.000000</td>\n",
       "      <td>5000.000000</td>\n",
       "      <td>5000.000000</td>\n",
       "    </tr>\n",
       "    <tr>\n",
       "      <th>mean</th>\n",
       "      <td>2.556200</td>\n",
       "      <td>0.086600</td>\n",
       "      <td>2.266849</td>\n",
       "      <td>21.227736</td>\n",
       "      <td>140.542000</td>\n",
       "      <td>0.014049</td>\n",
       "      <td>6.053111</td>\n",
       "      <td>2.298400</td>\n",
       "      <td>472.185374</td>\n",
       "    </tr>\n",
       "    <tr>\n",
       "      <th>std</th>\n",
       "      <td>6.188772</td>\n",
       "      <td>0.361008</td>\n",
       "      <td>12.177758</td>\n",
       "      <td>27.348165</td>\n",
       "      <td>433.208061</td>\n",
       "      <td>0.092514</td>\n",
       "      <td>6.834485</td>\n",
       "      <td>10.028533</td>\n",
       "      <td>2132.993305</td>\n",
       "    </tr>\n",
       "    <tr>\n",
       "      <th>min</th>\n",
       "      <td>0.000000</td>\n",
       "      <td>0.000000</td>\n",
       "      <td>0.000000</td>\n",
       "      <td>1.000000</td>\n",
       "      <td>0.000000</td>\n",
       "      <td>0.000000</td>\n",
       "      <td>0.000000</td>\n",
       "      <td>0.000000</td>\n",
       "      <td>0.000000</td>\n",
       "    </tr>\n",
       "    <tr>\n",
       "      <th>25%</th>\n",
       "      <td>0.000000</td>\n",
       "      <td>0.000000</td>\n",
       "      <td>0.000000</td>\n",
       "      <td>1.000000</td>\n",
       "      <td>1.000000</td>\n",
       "      <td>0.000000</td>\n",
       "      <td>2.000000</td>\n",
       "      <td>0.000000</td>\n",
       "      <td>0.000000</td>\n",
       "    </tr>\n",
       "    <tr>\n",
       "      <th>50%</th>\n",
       "      <td>1.000000</td>\n",
       "      <td>0.000000</td>\n",
       "      <td>0.000000</td>\n",
       "      <td>7.000000</td>\n",
       "      <td>2.000000</td>\n",
       "      <td>0.000000</td>\n",
       "      <td>4.000000</td>\n",
       "      <td>0.000000</td>\n",
       "      <td>0.000000</td>\n",
       "    </tr>\n",
       "    <tr>\n",
       "      <th>75%</th>\n",
       "      <td>2.000000</td>\n",
       "      <td>0.000000</td>\n",
       "      <td>0.000000</td>\n",
       "      <td>36.000000</td>\n",
       "      <td>9.000000</td>\n",
       "      <td>0.000000</td>\n",
       "      <td>8.857143</td>\n",
       "      <td>0.000000</td>\n",
       "      <td>0.000000</td>\n",
       "    </tr>\n",
       "    <tr>\n",
       "      <th>max</th>\n",
       "      <td>90.000000</td>\n",
       "      <td>5.000000</td>\n",
       "      <td>100.000000</td>\n",
       "      <td>170.000000</td>\n",
       "      <td>4867.000000</td>\n",
       "      <td>1.000000</td>\n",
       "      <td>96.000000</td>\n",
       "      <td>179.000000</td>\n",
       "      <td>40901.860000</td>\n",
       "    </tr>\n",
       "  </tbody>\n",
       "</table>\n",
       "</div>"
      ],
      "text/plain": [
       "       Impressions       Clicks          CTR  Average Position     Sessions  \\\n",
       "count  5000.000000  5000.000000  5000.000000       5000.000000  5000.000000   \n",
       "mean      2.556200     0.086600     2.266849         21.227736   140.542000   \n",
       "std       6.188772     0.361008    12.177758         27.348165   433.208061   \n",
       "min       0.000000     0.000000     0.000000          1.000000     0.000000   \n",
       "25%       0.000000     0.000000     0.000000          1.000000     1.000000   \n",
       "50%       1.000000     0.000000     0.000000          7.000000     2.000000   \n",
       "75%       2.000000     0.000000     0.000000         36.000000     9.000000   \n",
       "max      90.000000     5.000000   100.000000        170.000000  4867.000000   \n",
       "\n",
       "       Bounce Rate  Pages / Session  Transactions       Revenue  \n",
       "count  5000.000000      5000.000000   5000.000000   5000.000000  \n",
       "mean      0.014049         6.053111      2.298400    472.185374  \n",
       "std       0.092514         6.834485     10.028533   2132.993305  \n",
       "min       0.000000         0.000000      0.000000      0.000000  \n",
       "25%       0.000000         2.000000      0.000000      0.000000  \n",
       "50%       0.000000         4.000000      0.000000      0.000000  \n",
       "75%       0.000000         8.857143      0.000000      0.000000  \n",
       "max       1.000000        96.000000    179.000000  40901.860000  "
      ]
     },
     "execution_count": 39,
     "metadata": {},
     "output_type": "execute_result"
    }
   ],
   "source": [
    "ga.describe()"
   ]
  },
  {
   "cell_type": "code",
   "execution_count": 42,
   "id": "818361f5",
   "metadata": {},
   "outputs": [],
   "source": [
    "# Filter data by region\n",
    "Country_df = ga[(ga.Country==\"United States\") | (ga.Country==\"Canada\") | (ga.Country==\"France\") | (ga.Country==\"Taiwan\") | (ga.Country==\"Indonesia\") | (ga.Country==\"United Kingdom\") | (ga.Country==\"Philippines\") | (ga.Country==\"United Arab Emirates\")]\n",
    "\n",
    "X = Country_df.drop(['Revenue', 'Country'], axis=1)\n",
    "y = Country_df['Revenue']\n"
   ]
  },
  {
   "cell_type": "code",
   "execution_count": 43,
   "id": "bac72565",
   "metadata": {},
   "outputs": [
    {
     "data": {
      "text/plain": [
       "(1687, 10)"
      ]
     },
     "execution_count": 43,
     "metadata": {},
     "output_type": "execute_result"
    }
   ],
   "source": [
    "Country_df.shape"
   ]
  },
  {
   "cell_type": "code",
   "execution_count": 12,
   "id": "2d62390a",
   "metadata": {},
   "outputs": [],
   "source": [
    "import matplotlib.pyplot as plt\n",
    "import seaborn as sn\n",
    "import warnings\n",
    "warnings.filterwarnings('ignore')\n",
    "from sklearn import preprocessing\n",
    "from sklearn.preprocessing import LabelEncoder  \n",
    "from sklearn.model_selection import train_test_split\n",
    "from sklearn.neighbors import KNeighborsRegressor\n",
    "from sklearn.metrics import r2_score, mean_squared_error"
   ]
  },
  {
   "cell_type": "code",
   "execution_count": 13,
   "id": "f9c8a242",
   "metadata": {},
   "outputs": [
    {
     "name": "stdout",
     "output_type": "stream",
     "text": [
      "   Impressions  Clicks  CTR  Average Position  Sessions  Bounce Rate  \\\n",
      "0            0       0  0.0               1.0         1          0.0   \n",
      "1            0       0  0.0               1.0         1          0.0   \n",
      "2            0       0  0.0               1.0         1          0.0   \n",
      "3            0       0  0.0               1.0         1          0.0   \n",
      "4            0       0  0.0               1.0         1          0.0   \n",
      "\n",
      "   Pages / Session  Transactions  \n",
      "0              2.0             0  \n",
      "1              2.0             0  \n",
      "2              2.0             0  \n",
      "3              2.0             0  \n",
      "4              2.0             0  \n",
      "(1687, 8)\n"
     ]
    }
   ],
   "source": [
    "print(X.head())\n",
    "print(X.shape)"
   ]
  },
  {
   "cell_type": "code",
   "execution_count": 14,
   "id": "9955f50c",
   "metadata": {},
   "outputs": [
    {
     "name": "stdout",
     "output_type": "stream",
     "text": [
      "0    0.0\n",
      "1    0.0\n",
      "2    0.0\n",
      "3    0.0\n",
      "4    0.0\n",
      "Name: Revenue, dtype: float64\n",
      "(1687,)\n"
     ]
    }
   ],
   "source": [
    "print(y.head())\n",
    "print(y.shape)"
   ]
  },
  {
   "cell_type": "code",
   "execution_count": 15,
   "id": "3dd1ae04",
   "metadata": {},
   "outputs": [
    {
     "data": {
      "image/png": "[encoded data removed]",
      "text/plain": [
       "<Figure size 800x800 with 2 Axes>"
      ]
     },
     "metadata": {},
     "output_type": "display_data"
    }
   ],
   "source": [
    "import matplotlib.pyplot as plt\n",
    "import seaborn as sns\n",
    "\n",
    "plt.figure(figsize=[8,8])\n",
    "sns.heatmap(X.corr(), annot=True)\n",
    "plt.title('Correlations Matrix')\n",
    "plt.show()"
   ]
  },
  {
   "cell_type": "code",
   "execution_count": 16,
   "id": "818ef519",
   "metadata": {},
   "outputs": [],
   "source": [
    "# Split the data set into training and testing sets\n",
    "X_train, X_test, y_train, y_test = train_test_split(X, y, test_size=0.2,\n",
    "                                                    random_state = 20)"
   ]
  },
  {
   "cell_type": "code",
   "execution_count": 17,
   "id": "bcddd3e3",
   "metadata": {},
   "outputs": [
    {
     "name": "stdout",
     "output_type": "stream",
     "text": [
      "(1349, 8)\n",
      "(1349,)\n"
     ]
    }
   ],
   "source": [
    "## dimension of train data\n",
    "print(X_train.shape)\n",
    "print(y_train.shape)"
   ]
  },
  {
   "cell_type": "code",
   "execution_count": 18,
   "id": "d6de673d",
   "metadata": {},
   "outputs": [
    {
     "name": "stdout",
     "output_type": "stream",
     "text": [
      "(338, 8)\n",
      "(338,)\n"
     ]
    }
   ],
   "source": [
    "## dimension of test data\n",
    "print(X_test.shape)\n",
    "print(y_test.shape)"
   ]
  },
  {
   "cell_type": "code",
   "execution_count": 19,
   "id": "c3e79894",
   "metadata": {},
   "outputs": [
    {
     "name": "stdout",
     "output_type": "stream",
     "text": [
      "      Impressions  Clicks  CTR  Average Position  Sessions  Bounce Rate  \\\n",
      "2601            0       0  0.0          1.000000         2     0.000000   \n",
      "2575            0       0  0.0          1.000000         2     0.000000   \n",
      "3104            6       0  0.0         29.166667         5     0.000000   \n",
      "4319            4       0  0.0          1.750000       168     0.011905   \n",
      "4765           11       0  0.0         15.000000      1198     0.004174   \n",
      "\n",
      "      Pages / Session  Transactions  \n",
      "2601         2.000000             0  \n",
      "2575         2.000000             0  \n",
      "3104         4.800000             0  \n",
      "4319         9.297619             0  \n",
      "4765         9.772120            21  \n",
      "2601       0.00\n",
      "2575       0.00\n",
      "3104       0.00\n",
      "4319       0.00\n",
      "4765    4503.85\n",
      "Name: Revenue, dtype: float64\n"
     ]
    }
   ],
   "source": [
    "print(X_train.head())\n",
    "print(y_train.head())"
   ]
  },
  {
   "cell_type": "code",
   "execution_count": 20,
   "id": "40e3279f",
   "metadata": {},
   "outputs": [],
   "source": [
    "from sklearn.preprocessing import StandardScaler\n",
    "## Create StandardScaler instance\n",
    "scaler = StandardScaler()\n",
    "# Scale the train data\n",
    "X_train = scaler.fit_transform(X_train)\n",
    "# Scale the test data\n",
    "X_test = scaler.transform(X_test)"
   ]
  },
  {
   "cell_type": "code",
   "execution_count": 21,
   "id": "b47dd13b",
   "metadata": {},
   "outputs": [],
   "source": [
    "## Create KNeighborsRegressor instance\n",
    "# default n_neighbors = 5\n",
    "model_knn_reg = KNeighborsRegressor()"
   ]
  },
  {
   "cell_type": "code",
   "execution_count": 22,
   "id": "da3d444a",
   "metadata": {},
   "outputs": [
    {
     "data": {
      "text/html": [
       "<style>#sk-container-id-1 {color: black;}#sk-container-id-1 pre{padding: 0;}#sk-container-id-1 div.sk-toggleable {background-color: white;}#sk-container-id-1 label.sk-toggleable__label {cursor: pointer;display: block;width: 100%;margin-bottom: 0;padding: 0.3em;box-sizing: border-box;text-align: center;}#sk-container-id-1 label.sk-toggleable__label-arrow:before {content: \"▸\";float: left;margin-right: 0.25em;color: #696969;}#sk-container-id-1 label.sk-toggleable__label-arrow:hover:before {color: black;}#sk-container-id-1 div.sk-estimator:hover label.sk-toggleable__label-arrow:before {color: black;}#sk-container-id-1 div.sk-toggleable__content {max-height: 0;max-width: 0;overflow: hidden;text-align: left;background-color: #f0f8ff;}#sk-container-id-1 div.sk-toggleable__content pre {margin: 0.2em;color: black;border-radius: 0.25em;background-color: #f0f8ff;}#sk-container-id-1 input.sk-toggleable__control:checked~div.sk-toggleable__content {max-height: 200px;max-width: 100%;overflow: auto;}#sk-container-id-1 input.sk-toggleable__control:checked~label.sk-toggleable__label-arrow:before {content: \"▾\";}#sk-container-id-1 div.sk-estimator input.sk-toggleable__control:checked~label.sk-toggleable__label {background-color: #d4ebff;}#sk-container-id-1 div.sk-label input.sk-toggleable__control:checked~label.sk-toggleable__label {background-color: #d4ebff;}#sk-container-id-1 input.sk-hidden--visually {border: 0;clip: rect(1px 1px 1px 1px);clip: rect(1px, 1px, 1px, 1px);height: 1px;margin: -1px;overflow: hidden;padding: 0;position: absolute;width: 1px;}#sk-container-id-1 div.sk-estimator {font-family: monospace;background-color: #f0f8ff;border: 1px dotted black;border-radius: 0.25em;box-sizing: border-box;margin-bottom: 0.5em;}#sk-container-id-1 div.sk-estimator:hover {background-color: #d4ebff;}#sk-container-id-1 div.sk-parallel-item::after {content: \"\";width: 100%;border-bottom: 1px solid gray;flex-grow: 1;}#sk-container-id-1 div.sk-label:hover label.sk-toggleable__label {background-color: #d4ebff;}#sk-container-id-1 div.sk-serial::before {content: \"\";position: absolute;border-left: 1px solid gray;box-sizing: border-box;top: 0;bottom: 0;left: 50%;z-index: 0;}#sk-container-id-1 div.sk-serial {display: flex;flex-direction: column;align-items: center;background-color: white;padding-right: 0.2em;padding-left: 0.2em;position: relative;}#sk-container-id-1 div.sk-item {position: relative;z-index: 1;}#sk-container-id-1 div.sk-parallel {display: flex;align-items: stretch;justify-content: center;background-color: white;position: relative;}#sk-container-id-1 div.sk-item::before, #sk-container-id-1 div.sk-parallel-item::before {content: \"\";position: absolute;border-left: 1px solid gray;box-sizing: border-box;top: 0;bottom: 0;left: 50%;z-index: -1;}#sk-container-id-1 div.sk-parallel-item {display: flex;flex-direction: column;z-index: 1;position: relative;background-color: white;}#sk-container-id-1 div.sk-parallel-item:first-child::after {align-self: flex-end;width: 50%;}#sk-container-id-1 div.sk-parallel-item:last-child::after {align-self: flex-start;width: 50%;}#sk-container-id-1 div.sk-parallel-item:only-child::after {width: 0;}#sk-container-id-1 div.sk-dashed-wrapped {border: 1px dashed gray;margin: 0 0.4em 0.5em 0.4em;box-sizing: border-box;padding-bottom: 0.4em;background-color: white;}#sk-container-id-1 div.sk-label label {font-family: monospace;font-weight: bold;display: inline-block;line-height: 1.2em;}#sk-container-id-1 div.sk-label-container {text-align: center;}#sk-container-id-1 div.sk-container {/* jupyter's `normalize.less` sets `[hidden] { display: none; }` but bootstrap.min.css set `[hidden] { display: none !important; }` so we also need the `!important` here to be able to override the default hidden behavior on the sphinx rendered scikit-learn.org. See: https://github.com/scikit-learn/scikit-learn/issues/21755 */display: inline-block !important;position: relative;}#sk-container-id-1 div.sk-text-repr-fallback {display: none;}</style><div id=\"sk-container-id-1\" class=\"sk-top-container\"><div class=\"sk-text-repr-fallback\"><pre>KNeighborsRegressor()</pre><b>In a Jupyter environment, please rerun this cell to show the HTML representation or trust the notebook. <br />On GitHub, the HTML representation is unable to render, please try loading this page with nbviewer.org.</b></div><div class=\"sk-container\" hidden><div class=\"sk-item\"><div class=\"sk-estimator sk-toggleable\"><input class=\"sk-toggleable__control sk-hidden--visually\" id=\"sk-estimator-id-1\" type=\"checkbox\" checked><label for=\"sk-estimator-id-1\" class=\"sk-toggleable__label sk-toggleable__label-arrow\">KNeighborsRegressor</label><div class=\"sk-toggleable__content\"><pre>KNeighborsRegressor()</pre></div></div></div></div></div>"
      ],
      "text/plain": [
       "KNeighborsRegressor()"
      ]
     },
     "execution_count": 22,
     "metadata": {},
     "output_type": "execute_result"
    }
   ],
   "source": [
    "model_knn_reg.fit(X_train,y_train)"
   ]
  },
  {
   "cell_type": "code",
   "execution_count": 23,
   "id": "b1a8c6c6",
   "metadata": {},
   "outputs": [
    {
     "name": "stdout",
     "output_type": "stream",
     "text": [
      "[4.7710380e+03 6.3761900e+03 0.0000000e+00 0.0000000e+00 0.0000000e+00\n",
      " 0.0000000e+00 0.0000000e+00 0.0000000e+00 0.0000000e+00 1.4598000e+01\n",
      " 0.0000000e+00 1.1115894e+04 0.0000000e+00 0.0000000e+00 0.0000000e+00\n",
      " 0.0000000e+00 0.0000000e+00 0.0000000e+00 4.5191100e+03 0.0000000e+00\n",
      " 8.5079000e+03 0.0000000e+00 6.6236100e+03 0.0000000e+00 0.0000000e+00\n",
      " 0.0000000e+00 0.0000000e+00 0.0000000e+00 0.0000000e+00 0.0000000e+00\n",
      " 0.0000000e+00 0.0000000e+00 0.0000000e+00 0.0000000e+00 1.3314972e+04\n",
      " 8.7398500e+03 0.0000000e+00 0.0000000e+00 0.0000000e+00 0.0000000e+00\n",
      " 0.0000000e+00 0.0000000e+00 0.0000000e+00 0.0000000e+00 0.0000000e+00\n",
      " 0.0000000e+00 0.0000000e+00 0.0000000e+00 0.0000000e+00 0.0000000e+00\n",
      " 0.0000000e+00 0.0000000e+00 0.0000000e+00 0.0000000e+00 6.7147360e+03\n",
      " 0.0000000e+00 0.0000000e+00 0.0000000e+00 0.0000000e+00 6.5998000e+01\n",
      " 5.2083920e+03 0.0000000e+00 0.0000000e+00 0.0000000e+00 0.0000000e+00\n",
      " 0.0000000e+00 3.6852800e+03 0.0000000e+00 0.0000000e+00 4.3389520e+03\n",
      " 0.0000000e+00 0.0000000e+00 5.4099460e+03 0.0000000e+00 3.6338940e+03\n",
      " 0.0000000e+00 0.0000000e+00 0.0000000e+00 4.4068700e+03 0.0000000e+00\n",
      " 4.2137700e+03 6.1998000e+01 0.0000000e+00 0.0000000e+00 0.0000000e+00\n",
      " 6.2366900e+03 0.0000000e+00 5.1330180e+03 0.0000000e+00 0.0000000e+00\n",
      " 0.0000000e+00 0.0000000e+00 0.0000000e+00 0.0000000e+00 2.2798000e+01\n",
      " 0.0000000e+00 0.0000000e+00 0.0000000e+00 0.0000000e+00 0.0000000e+00\n",
      " 0.0000000e+00 0.0000000e+00 0.0000000e+00 0.0000000e+00 0.0000000e+00\n",
      " 0.0000000e+00 0.0000000e+00 0.0000000e+00 0.0000000e+00 0.0000000e+00\n",
      " 0.0000000e+00 0.0000000e+00 0.0000000e+00 2.2798000e+01 0.0000000e+00\n",
      " 0.0000000e+00 0.0000000e+00 0.0000000e+00 0.0000000e+00 0.0000000e+00\n",
      " 0.0000000e+00 0.0000000e+00 0.0000000e+00 0.0000000e+00 5.2913600e+03\n",
      " 0.0000000e+00 0.0000000e+00 0.0000000e+00 0.0000000e+00 6.1998000e+01\n",
      " 0.0000000e+00 0.0000000e+00 0.0000000e+00 5.9426520e+03 0.0000000e+00\n",
      " 0.0000000e+00 0.0000000e+00 0.0000000e+00 0.0000000e+00 7.9998000e+01\n",
      " 0.0000000e+00 0.0000000e+00 0.0000000e+00 0.0000000e+00 0.0000000e+00\n",
      " 5.4283660e+03 3.7662460e+03 0.0000000e+00 0.0000000e+00 0.0000000e+00\n",
      " 0.0000000e+00 0.0000000e+00 0.0000000e+00 0.0000000e+00 0.0000000e+00\n",
      " 1.6277500e+04 0.0000000e+00 0.0000000e+00 0.0000000e+00 0.0000000e+00\n",
      " 0.0000000e+00 6.5998000e+01 0.0000000e+00 0.0000000e+00 8.6141220e+03\n",
      " 4.6623960e+03 0.0000000e+00 0.0000000e+00 2.9315560e+03 0.0000000e+00\n",
      " 0.0000000e+00 0.0000000e+00 0.0000000e+00 5.9679540e+03 0.0000000e+00\n",
      " 0.0000000e+00 0.0000000e+00 5.6654280e+03 0.0000000e+00 0.0000000e+00\n",
      " 0.0000000e+00 0.0000000e+00 0.0000000e+00 0.0000000e+00 0.0000000e+00\n",
      " 0.0000000e+00 3.2940440e+03 0.0000000e+00 6.5998000e+01 0.0000000e+00\n",
      " 0.0000000e+00 4.4401480e+03 0.0000000e+00 0.0000000e+00 3.4469460e+03\n",
      " 0.0000000e+00 0.0000000e+00 0.0000000e+00 0.0000000e+00 0.0000000e+00\n",
      " 0.0000000e+00 0.0000000e+00 4.3320580e+03 0.0000000e+00 0.0000000e+00\n",
      " 0.0000000e+00 0.0000000e+00 0.0000000e+00 0.0000000e+00 0.0000000e+00\n",
      " 0.0000000e+00 0.0000000e+00 0.0000000e+00 4.2156880e+03 7.8324100e+03\n",
      " 0.0000000e+00 0.0000000e+00 0.0000000e+00 1.4330818e+04 0.0000000e+00\n",
      " 0.0000000e+00 0.0000000e+00 0.0000000e+00 0.0000000e+00 0.0000000e+00\n",
      " 4.5820000e+03 0.0000000e+00 7.9990000e+01 6.3821280e+03 0.0000000e+00\n",
      " 1.3430506e+04 7.2928760e+03 0.0000000e+00 5.3584600e+03 0.0000000e+00\n",
      " 0.0000000e+00 0.0000000e+00 0.0000000e+00 5.7447520e+03 0.0000000e+00\n",
      " 0.0000000e+00 0.0000000e+00 5.2231360e+03 5.1334460e+03 1.3748580e+04\n",
      " 5.7464920e+03 0.0000000e+00 5.8625300e+03 1.3427902e+04 0.0000000e+00\n",
      " 0.0000000e+00 5.0668120e+03 0.0000000e+00 0.0000000e+00 5.6743580e+03\n",
      " 3.1998000e+01 0.0000000e+00 0.0000000e+00 0.0000000e+00 0.0000000e+00\n",
      " 1.1151736e+04 1.2536050e+04 0.0000000e+00 0.0000000e+00 0.0000000e+00\n",
      " 0.0000000e+00 3.1998000e+01 0.0000000e+00 0.0000000e+00 0.0000000e+00\n",
      " 5.0872940e+03 1.1717226e+04 0.0000000e+00 1.3187540e+04 0.0000000e+00\n",
      " 0.0000000e+00 0.0000000e+00 2.4338684e+04 0.0000000e+00 0.0000000e+00\n",
      " 4.2293900e+03 6.5998000e+01 8.5041840e+03 0.0000000e+00 0.0000000e+00\n",
      " 0.0000000e+00 0.0000000e+00 1.2265240e+04 0.0000000e+00 0.0000000e+00\n",
      " 0.0000000e+00 0.0000000e+00 0.0000000e+00 0.0000000e+00 5.7296060e+03\n",
      " 0.0000000e+00 6.5825860e+03 0.0000000e+00 3.2940440e+03 0.0000000e+00\n",
      " 0.0000000e+00 3.7692280e+03 0.0000000e+00 0.0000000e+00 0.0000000e+00\n",
      " 0.0000000e+00 0.0000000e+00 1.4598000e+01 0.0000000e+00 1.2733020e+03\n",
      " 0.0000000e+00 0.0000000e+00 0.0000000e+00 0.0000000e+00 1.2748900e+03\n",
      " 0.0000000e+00 2.9998000e+01 9.5359000e+03 0.0000000e+00 0.0000000e+00\n",
      " 3.8385260e+03 0.0000000e+00 4.2269000e+03 0.0000000e+00 0.0000000e+00\n",
      " 0.0000000e+00 0.0000000e+00 0.0000000e+00 0.0000000e+00 0.0000000e+00\n",
      " 0.0000000e+00 0.0000000e+00 0.0000000e+00 0.0000000e+00 0.0000000e+00\n",
      " 0.0000000e+00 0.0000000e+00 3.7998000e+01]\n"
     ]
    }
   ],
   "source": [
    "## predict target from test model\n",
    "y_pred = model_knn_reg.predict(X_test)\n",
    "# get the predicted for test data\n",
    "print(y_pred)"
   ]
  },
  {
   "cell_type": "code",
   "execution_count": 24,
   "id": "5db8cc40",
   "metadata": {},
   "outputs": [],
   "source": [
    "rmse=np.sqrt(mean_squared_error(y_test, y_pred)).round(2)"
   ]
  },
  {
   "cell_type": "code",
   "execution_count": 25,
   "id": "028a6c5c",
   "metadata": {},
   "outputs": [
    {
     "name": "stdout",
     "output_type": "stream",
     "text": [
      "Train Error (RMSE) = 1,266.35\n"
     ]
    }
   ],
   "source": [
    "print(\"Train Error (RMSE) = {:,}\".format(rmse))"
   ]
  },
  {
   "cell_type": "code",
   "execution_count": 26,
   "id": "4c7fa3e2",
   "metadata": {},
   "outputs": [
    {
     "data": {
      "text/plain": [
       "0.9019507485609072"
      ]
     },
     "execution_count": 26,
     "metadata": {},
     "output_type": "execute_result"
    }
   ],
   "source": [
    "r2_score(y_test, y_pred)"
   ]
  },
  {
   "cell_type": "code",
   "execution_count": 27,
   "id": "df6865bd",
   "metadata": {},
   "outputs": [],
   "source": [
    "# Split the data set into training and testing sets\n",
    "X_train, X_test, y_train, y_test = train_test_split(X, y, test_size=0.2,\n",
    "                                                    random_state = 20)"
   ]
  },
  {
   "cell_type": "code",
   "execution_count": 28,
   "id": "6391f878",
   "metadata": {},
   "outputs": [],
   "source": [
    "from sklearn.preprocessing import StandardScaler\n",
    "## Create StandardScaler instance\n",
    "scaler = StandardScaler()\n",
    "# Scale the train dat\n",
    "X_train = scaler.fit_transform(X_train)\n",
    "# Scale the test data\n",
    "X_test = scaler.transform(X_test)"
   ]
  },
  {
   "cell_type": "code",
   "execution_count": 29,
   "id": "a0c5b452",
   "metadata": {},
   "outputs": [
    {
     "data": {
      "text/plain": [
       "array([[-0.58650901, -0.3474968 , -0.23715921, ..., -0.17876821,\n",
       "        -1.01889884, -0.42463079],\n",
       "       [-0.58650901, -0.3474968 , -0.23715921, ..., -0.17876821,\n",
       "        -1.01889884, -0.42463079],\n",
       "       [ 0.05465846, -0.3474968 , -0.23715921, ..., -0.17876821,\n",
       "        -0.48970487, -0.42463079],\n",
       "       ...,\n",
       "       [ 0.05465846, -0.3474968 , -0.23715921, ..., -0.17876821,\n",
       "        -0.64090314, -0.42463079],\n",
       "       [-0.58650901, -0.3474968 , -0.23715921, ..., -0.17876821,\n",
       "        -0.82990099, -0.42463079],\n",
       "       [ 1.65757712, -0.3474968 , -0.23715921, ...,  0.02800835,\n",
       "         0.19023872,  1.79268205]])"
      ]
     },
     "execution_count": 29,
     "metadata": {},
     "output_type": "execute_result"
    }
   ],
   "source": [
    "X_train"
   ]
  },
  {
   "cell_type": "code",
   "execution_count": 30,
   "id": "67c86ab4",
   "metadata": {},
   "outputs": [],
   "source": [
    "# initialized best Root Mean Square Error\n",
    "best_rmse = 0\n",
    "## Initialize best k\n",
    "best_k = 0\n",
    "# Select which k neighbors to study\n",
    "possible_k = [1,2,3,4,5,6,7,8,9]"
   ]
  },
  {
   "cell_type": "code",
   "execution_count": 31,
   "id": "aef2edb9",
   "metadata": {
    "scrolled": true
   },
   "outputs": [
    {
     "name": "stdout",
     "output_type": "stream",
     "text": [
      "k: 1, rmse: 1206.61, r2: 0.91\n",
      "k: 2, rmse: 1257.52, r2: 0.90\n",
      "k: 3, rmse: 1281.30, r2: 0.90\n",
      "k: 4, rmse: 1172.69, r2: 0.92\n",
      "k: 5, rmse: 1266.35, r2: 0.90\n",
      "k: 6, rmse: 1307.43, r2: 0.90\n",
      "k: 7, rmse: 1349.46, r2: 0.89\n",
      "k: 8, rmse: 1386.73, r2: 0.88\n",
      "k: 9, rmse: 1420.15, r2: 0.88\n",
      "Optimum: kNN, k=4, rmse: 1172.69\n"
     ]
    }
   ],
   "source": [
    "# Start loop for grid search\n",
    "for k in possible_k:\n",
    "    # Create KNN regressor instance\n",
    "    knn_reg = KNeighborsRegressor(n_neighbors=k, weights='uniform')\n",
    "    ## fit the KNN Regression model on train data\n",
    "    knn_reg.fit(X_train, y_train)\n",
    "    # Train KNN model and predict values for X_test\n",
    "    y_pred = knn_reg.predict(X_test)\n",
    "    # Calculate rmse between actual y values and predicted values\n",
    "    mse = mean_squared_error(y_pred,y_test)\n",
    "    rmse = np.sqrt(mse)\n",
    "    r2_square = r2_score(y_test, y_pred)    \n",
    "    # Print k and rmse of each grid point\n",
    "    print('k: %i, rmse: %.2f, r2: %.2f' %(k, rmse, r2_square))\n",
    "    # If this value is better than previous one (or it is first step), update best value\n",
    "    if rmse < best_rmse or k == possible_k[0]:\n",
    "        best_rmse = rmse\n",
    "        best_k = k\n",
    "# Print final best k value and rmse\n",
    "print(\"Optimum: kNN, k=%i, rmse: %.2f\" %(best_k,best_rmse))"
   ]
  },
  {
   "cell_type": "code",
   "execution_count": null,
   "id": "fecbe3e8",
   "metadata": {},
   "outputs": [],
   "source": []
  },
  {
   "cell_type": "code",
   "execution_count": null,
   "id": "7096c1b7",
   "metadata": {},
   "outputs": [],
   "source": []
  }
 ],
 "metadata": {
  "kernelspec": {
   "display_name": "Python 3 (ipykernel)",
   "language": "python",
   "name": "python3"
  },
  "language_info": {
   "codemirror_mode": {
    "name": "ipython",
    "version": 3
   },
   "file_extension": ".py",
   "mimetype": "text/x-python",
   "name": "python",
   "nbconvert_exporter": "python",
   "pygments_lexer": "ipython3",
   "version": "3.11.5"
  }
 },
 "nbformat": 4,
 "nbformat_minor": 5
}
